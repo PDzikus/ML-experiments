{
 "cells": [
  {
   "cell_type": "markdown",
   "metadata": {},
   "source": [
    "## Reuters dataset\n",
    "Single-label, multiclass classification problem"
   ]
  },
  {
   "cell_type": "code",
   "execution_count": 1,
   "metadata": {},
   "outputs": [
    {
     "name": "stderr",
     "output_type": "stream",
     "text": [
      "Using TensorFlow backend.\n"
     ]
    },
    {
     "name": "stdout",
     "output_type": "stream",
     "text": [
      "Help on module keras.datasets.reuters in keras.datasets:\n",
      "\n",
      "NAME\n",
      "    keras.datasets.reuters - Reuters topic classification dataset.\n",
      "\n",
      "FUNCTIONS\n",
      "    get_word_index(path='reuters_word_index.json')\n",
      "        Retrieves the dictionary mapping words to word indices.\n",
      "        \n",
      "        # Arguments\n",
      "            path: where to cache the data (relative to `~/.keras/dataset`).\n",
      "        \n",
      "        # Returns\n",
      "            The word index dictionary.\n",
      "    \n",
      "    load_data(path='reuters.npz', num_words=None, skip_top=0, maxlen=None, test_split=0.2, seed=113, start_char=1, oov_char=2, index_from=3, **kwargs)\n",
      "        Loads the Reuters newswire classification dataset.\n",
      "        \n",
      "        # Arguments\n",
      "            path: where to cache the data (relative to `~/.keras/dataset`).\n",
      "            num_words: max number of words to include. Words are ranked\n",
      "                by how often they occur (in the training set) and only\n",
      "                the most frequent words are kept\n",
      "            skip_top: skip the top N most frequently occurring words\n",
      "                (which may not be informative).\n",
      "            maxlen: truncate sequences after this length.\n",
      "            test_split: Fraction of the dataset to be used as test data.\n",
      "            seed: random seed for sample shuffling.\n",
      "            start_char: The start of a sequence will be marked with this character.\n",
      "                Set to 1 because 0 is usually the padding character.\n",
      "            oov_char: words that were cut out because of the `num_words`\n",
      "                or `skip_top` limit will be replaced with this character.\n",
      "            index_from: index actual words with this index and higher.\n",
      "        \n",
      "        # Returns\n",
      "            Tuple of Numpy arrays: `(x_train, y_train), (x_test, y_test)`.\n",
      "        \n",
      "        Note that the 'out of vocabulary' character is only used for\n",
      "        words that were present in the training set but are not included\n",
      "        because they're not making the `num_words` cut here.\n",
      "        Words that were not seen in the training set but are in the test set\n",
      "        have simply been skipped.\n",
      "\n",
      "DATA\n",
      "    absolute_import = _Feature((2, 5, 0, 'alpha', 1), (3, 0, 0, 'alpha', 0...\n",
      "    division = _Feature((2, 2, 0, 'alpha', 2), (3, 0, 0, 'alpha', 0), 8192...\n",
      "    print_function = _Feature((2, 6, 0, 'alpha', 2), (3, 0, 0, 'alpha', 0)...\n",
      "\n",
      "FILE\n",
      "    /home/dzikus/anaconda3/envs/tensor/lib/python3.6/site-packages/keras/datasets/reuters.py\n",
      "\n",
      "\n"
     ]
    }
   ],
   "source": [
    "from keras.datasets import reuters\n",
    "help(reuters)"
   ]
  },
  {
   "cell_type": "code",
   "execution_count": 14,
   "metadata": {},
   "outputs": [
    {
     "name": "stdout",
     "output_type": "stream",
     "text": [
      "Train data size: (8982,)\n",
      "Test data size: (2246,)\n",
      "Number of labels: [ 3  4  3 ... 25  3 25]\n"
     ]
    }
   ],
   "source": [
    "(train_data, train_labels), (test_data, test_labels) = reuters.load_data(num_words = 10000)\n",
    "print(f'Train data size: {train_data.shape}')\n",
    "print(f'Test data size: {test_data.shape}')"
   ]
  },
  {
   "cell_type": "markdown",
   "metadata": {},
   "source": [
    "### 2. Data preparation\n",
    "I'm going to vectorize the X data - vector of 0s and 1s, coding which words were find in the sequence <br>\n",
    "    For labels we'll use one-hot-encoding with a keras built in function"
   ]
  },
  {
   "cell_type": "code",
   "execution_count": 10,
   "metadata": {},
   "outputs": [],
   "source": [
    "import numpy as np\n",
    "\n",
    "def vectorize_sequence(sequences, dimension = 10000):\n",
    "    results = np.zeros((len(sequences), dimension))\n",
    "    for i, sequence in enumerate(sequences):\n",
    "        results[i, sequence] = 1\n",
    "    return results\n",
    "\n",
    "x_train = vectorize_sequence(train_data)\n",
    "x_test = vectorize_sequence(test_data)\n",
    "\n",
    "from keras.utils.np_utils import to_categorical\n",
    "\n",
    "one_hot_train_labels = to_categorical(train_labels)\n",
    "one_hot_test_labels = to_categorical(test_labels)"
   ]
  },
  {
   "cell_type": "markdown",
   "metadata": {},
   "source": [
    "### 3. Building model"
   ]
  },
  {
   "cell_type": "code",
   "execution_count": 41,
   "metadata": {},
   "outputs": [],
   "source": [
    "from keras import models\n",
    "from keras import layers\n",
    "\n",
    "model = models.Sequential()\n",
    "model.add(layers.Dense(64, activation = 'relu', input_shape = (10000, )))\n",
    "model.add(layers.Dense(64, activation = 'relu'))\n",
    "model.add(layers.Dense(46, activation = 'softmax'))\n",
    "\n",
    "model.compile(optimizer = 'rmsprop',\n",
    "             loss = 'categorical_crossentropy',\n",
    "             metrics = ['accuracy'])"
   ]
  },
  {
   "cell_type": "code",
   "execution_count": 42,
   "metadata": {},
   "outputs": [],
   "source": [
    "x_val = x_train[:1000]\n",
    "y_val = one_hot_train_labels[:1000]\n",
    "partial_x_train = x_train[1000:]\n",
    "partial_y_train = one_hot_train_labels[1000:]"
   ]
  },
  {
   "cell_type": "code",
   "execution_count": 43,
   "metadata": {},
   "outputs": [
    {
     "name": "stdout",
     "output_type": "stream",
     "text": [
      "Train on 7982 samples, validate on 1000 samples\n",
      "Epoch 1/20\n",
      "7982/7982 [==============================] - 1s 72us/step - loss: 2.5862 - acc: 0.5495 - val_loss: 1.7361 - val_acc: 0.6250\n",
      "Epoch 2/20\n",
      "7982/7982 [==============================] - 0s 38us/step - loss: 1.4585 - acc: 0.6878 - val_loss: 1.3361 - val_acc: 0.7180\n",
      "Epoch 3/20\n",
      "7982/7982 [==============================] - 0s 40us/step - loss: 1.0994 - acc: 0.7590 - val_loss: 1.1578 - val_acc: 0.7470\n",
      "Epoch 4/20\n",
      "7982/7982 [==============================] - 0s 38us/step - loss: 0.8750 - acc: 0.8138 - val_loss: 1.0735 - val_acc: 0.7620\n",
      "Epoch 5/20\n",
      "7982/7982 [==============================] - 0s 40us/step - loss: 0.7000 - acc: 0.8572 - val_loss: 0.9771 - val_acc: 0.8070\n",
      "Epoch 6/20\n",
      "7982/7982 [==============================] - 0s 39us/step - loss: 0.5595 - acc: 0.8851 - val_loss: 0.9225 - val_acc: 0.8160\n",
      "Epoch 7/20\n",
      "7982/7982 [==============================] - 0s 39us/step - loss: 0.4561 - acc: 0.9043 - val_loss: 0.9121 - val_acc: 0.8180\n",
      "Epoch 8/20\n",
      "7982/7982 [==============================] - 0s 38us/step - loss: 0.3679 - acc: 0.9238 - val_loss: 0.8930 - val_acc: 0.8120\n",
      "Epoch 9/20\n",
      "7982/7982 [==============================] - 0s 38us/step - loss: 0.3036 - acc: 0.9335 - val_loss: 0.8997 - val_acc: 0.8150\n",
      "Epoch 10/20\n",
      "7982/7982 [==============================] - 0s 39us/step - loss: 0.2582 - acc: 0.9415 - val_loss: 0.9009 - val_acc: 0.8220\n",
      "Epoch 11/20\n",
      "7982/7982 [==============================] - 0s 38us/step - loss: 0.2184 - acc: 0.9479 - val_loss: 0.9356 - val_acc: 0.8160\n",
      "Epoch 12/20\n",
      "7982/7982 [==============================] - 0s 39us/step - loss: 0.1926 - acc: 0.9510 - val_loss: 0.9148 - val_acc: 0.8170\n",
      "Epoch 13/20\n",
      "7982/7982 [==============================] - 0s 39us/step - loss: 0.1684 - acc: 0.9526 - val_loss: 0.9701 - val_acc: 0.8030\n",
      "Epoch 14/20\n",
      "7982/7982 [==============================] - 0s 39us/step - loss: 0.1568 - acc: 0.9554 - val_loss: 0.9660 - val_acc: 0.8180\n",
      "Epoch 15/20\n",
      "7982/7982 [==============================] - 0s 38us/step - loss: 0.1507 - acc: 0.9526 - val_loss: 0.9901 - val_acc: 0.8110\n",
      "Epoch 16/20\n",
      "7982/7982 [==============================] - 0s 38us/step - loss: 0.1332 - acc: 0.9557 - val_loss: 1.0029 - val_acc: 0.8050\n",
      "Epoch 17/20\n",
      "7982/7982 [==============================] - 0s 39us/step - loss: 0.1287 - acc: 0.9545 - val_loss: 1.0058 - val_acc: 0.8060\n",
      "Epoch 18/20\n",
      "7982/7982 [==============================] - 0s 38us/step - loss: 0.1228 - acc: 0.9558 - val_loss: 1.0102 - val_acc: 0.8080\n",
      "Epoch 19/20\n",
      "7982/7982 [==============================] - 0s 39us/step - loss: 0.1172 - acc: 0.9585 - val_loss: 1.0574 - val_acc: 0.8070\n",
      "Epoch 20/20\n",
      "7982/7982 [==============================] - 0s 38us/step - loss: 0.1180 - acc: 0.9565 - val_loss: 1.0346 - val_acc: 0.8120\n"
     ]
    }
   ],
   "source": [
    "history = model.fit(partial_x_train, partial_y_train,\n",
    "                   epochs=20,\n",
    "                   batch_size=512,\n",
    "                   validation_data = (x_val, y_val))"
   ]
  },
  {
   "cell_type": "code",
   "execution_count": 44,
   "metadata": {},
   "outputs": [
    {
     "data": {
      "image/png": "[encoded data removed]",
      "text/plain": [
       "<Figure size 432x288 with 1 Axes>"
      ]
     },
     "metadata": {
      "needs_background": "light"
     },
     "output_type": "display_data"
    }
   ],
   "source": [
    "import matplotlib.pyplot as plt\n",
    "%matplotlib inline\n",
    "\n",
    "loss = history.history['loss']\n",
    "val_loss = history.history['val_loss']\n",
    "\n",
    "epochs = range(1, len(loss) + 1)\n",
    "\n",
    "plt.plot(epochs, loss, 'bo', label = 'Training loss')\n",
    "plt.plot(epochs, val_loss, 'b', label = 'Validation loss')\n",
    "plt.title('Training and validation loss')\n",
    "plt.xlabel('Epochs')\n",
    "plt.ylabel('Loss')\n",
    "plt.legend()\n",
    "plt.show()"
   ]
  },
  {
   "cell_type": "code",
   "execution_count": 45,
   "metadata": {},
   "outputs": [
    {
     "data": {
      "image/png": "[encoded data removed]",
      "text/plain": [
       "<Figure size 432x288 with 1 Axes>"
      ]
     },
     "metadata": {
      "needs_background": "light"
     },
     "output_type": "display_data"
    }
   ],
   "source": [
    "plt.clf()\n",
    "\n",
    "acc = history.history['acc']\n",
    "val_acc = history.history['val_acc']\n",
    "\n",
    "epochs = range(1, len(acc) + 1)\n",
    "\n",
    "plt.plot(epochs, acc, 'bo', label = 'Training acc')\n",
    "plt.plot(epochs, val_acc, 'b', label = 'Validation acc')\n",
    "plt.title('Training and validation accuracy')\n",
    "plt.xlabel('Epochs')\n",
    "plt.ylabel('Accuracy')\n",
    "plt.legend()\n",
    "plt.show()\n"
   ]
  },
  {
   "cell_type": "markdown",
   "metadata": {},
   "source": [
    "### 4. Training the model\n",
    "network overfits around 9th epoch, so we'll just retrain it until that point"
   ]
  },
  {
   "cell_type": "code",
   "execution_count": 47,
   "metadata": {},
   "outputs": [
    {
     "name": "stdout",
     "output_type": "stream",
     "text": [
      "Train on 7982 samples, validate on 1000 samples\n",
      "Epoch 1/9\n",
      "7982/7982 [==============================] - 1s 90us/step - loss: 2.6615 - acc: 0.5361 - val_loss: 1.7309 - val_acc: 0.6440\n",
      "Epoch 2/9\n",
      "7982/7982 [==============================] - 0s 57us/step - loss: 1.3943 - acc: 0.7124 - val_loss: 1.2888 - val_acc: 0.7250\n",
      "Epoch 3/9\n",
      "7982/7982 [==============================] - 0s 56us/step - loss: 1.0392 - acc: 0.7694 - val_loss: 1.1418 - val_acc: 0.7510\n",
      "Epoch 4/9\n",
      "7982/7982 [==============================] - 0s 56us/step - loss: 0.8208 - acc: 0.8196 - val_loss: 1.0686 - val_acc: 0.7710\n",
      "Epoch 5/9\n",
      "7982/7982 [==============================] - 0s 57us/step - loss: 0.6581 - acc: 0.8631 - val_loss: 1.0025 - val_acc: 0.7860\n",
      "Epoch 6/9\n",
      "7982/7982 [==============================] - 0s 59us/step - loss: 0.5292 - acc: 0.8919 - val_loss: 0.9422 - val_acc: 0.8020\n",
      "Epoch 7/9\n",
      "7982/7982 [==============================] - 0s 56us/step - loss: 0.4264 - acc: 0.9137 - val_loss: 0.9321 - val_acc: 0.8070\n",
      "Epoch 8/9\n",
      "7982/7982 [==============================] - 0s 58us/step - loss: 0.3451 - acc: 0.9280 - val_loss: 0.9147 - val_acc: 0.8080\n",
      "Epoch 9/9\n",
      "7982/7982 [==============================] - 0s 58us/step - loss: 0.2855 - acc: 0.9399 - val_loss: 0.9026 - val_acc: 0.8160\n",
      "2246/2246 [==============================] - 0s 75us/step\n",
      "[0.9806180666943055, 0.790739091745149]\n"
     ]
    }
   ],
   "source": [
    "model = models.Sequential()\n",
    "model.add(layers.Dense(64, activation = 'relu', input_shape=(10000, )))\n",
    "model.add(layers.Dense(64, activation = 'relu'))\n",
    "model.add(layers.Dense(46, activation = 'softmax'))\n",
    "\n",
    "model.compile(optimizer = 'rmsprop', loss = 'categorical_crossentropy', metrics = ['accuracy'])\n",
    "\n",
    "model.fit(partial_x_train, partial_y_train, epochs = 9, batch_size = 512,\n",
    "         validation_data = (x_val, y_val))\n",
    "results = model.evaluate(x_test, one_hot_test_labels)\n",
    "print(results)"
   ]
  },
  {
   "cell_type": "code",
   "execution_count": 58,
   "metadata": {},
   "outputs": [
    {
     "name": "stdout",
     "output_type": "stream",
     "text": [
      "Train on 8982 samples, validate on 2246 samples\n",
      "Epoch 1/9\n",
      "8982/8982 [==============================] - 1s 115us/step - loss: 2.3371 - acc: 0.5863 - val_loss: 1.6148 - val_acc: 0.6950\n",
      "Epoch 2/9\n",
      "8982/8982 [==============================] - 1s 64us/step - loss: 1.2465 - acc: 0.7577 - val_loss: 1.2276 - val_acc: 0.7364\n",
      "Epoch 3/9\n",
      "8982/8982 [==============================] - 1s 65us/step - loss: 0.8835 - acc: 0.8244 - val_loss: 1.0690 - val_acc: 0.7676\n",
      "Epoch 4/9\n",
      "8982/8982 [==============================] - 1s 65us/step - loss: 0.6697 - acc: 0.8684 - val_loss: 0.9604 - val_acc: 0.7939\n",
      "Epoch 5/9\n",
      "8982/8982 [==============================] - 1s 64us/step - loss: 0.5168 - acc: 0.8982 - val_loss: 0.9075 - val_acc: 0.7979\n",
      "Epoch 6/9\n",
      "8982/8982 [==============================] - 1s 65us/step - loss: 0.4084 - acc: 0.9174 - val_loss: 0.8835 - val_acc: 0.8023\n",
      "Epoch 7/9\n",
      "8982/8982 [==============================] - 1s 63us/step - loss: 0.3320 - acc: 0.9303 - val_loss: 0.8663 - val_acc: 0.8023\n",
      "Epoch 8/9\n",
      "8982/8982 [==============================] - 1s 66us/step - loss: 0.2749 - acc: 0.9393 - val_loss: 0.8636 - val_acc: 0.8054\n",
      "Epoch 9/9\n",
      "8982/8982 [==============================] - 1s 64us/step - loss: 0.2313 - acc: 0.9464 - val_loss: 0.8691 - val_acc: 0.8090\n",
      "2246/2246 [==============================] - 0s 72us/step\n",
      "[0.8690537043373604, 0.808993766696349]\n"
     ]
    }
   ],
   "source": [
    "model = models.Sequential()\n",
    "model.add(layers.Dense(92, activation = 'relu', input_shape=(10000, )))\n",
    "#model.add(layers.Dense(64, activation = 'relu'))\n",
    "model.add(layers.Dense(46, activation = 'softmax'))\n",
    "\n",
    "model.compile(optimizer = 'rmsprop', loss = 'categorical_crossentropy', metrics = ['accuracy'])\n",
    "\n",
    "model.fit(x_train, one_hot_train_labels, epochs = 9, batch_size = 512,\n",
    "         validation_data = (x_test, one_hot_test_labels))\n",
    "results = model.evaluate(x_test, one_hot_test_labels)\n",
    "print(results)"
   ]
  },
  {
   "cell_type": "code",
   "execution_count": 59,
   "metadata": {},
   "outputs": [
    {
     "data": {
      "text/plain": [
       "0.9999999"
      ]
     },
     "execution_count": 59,
     "metadata": {},
     "output_type": "execute_result"
    }
   ],
   "source": [
    "predictions = model.predict(x_test)\n",
    "predictions[0].shape\n",
    "np.sum(predictions[0])\n"
   ]
  },
  {
   "cell_type": "code",
   "execution_count": 60,
   "metadata": {},
   "outputs": [
    {
     "data": {
      "text/plain": [
       "3"
      ]
     },
     "execution_count": 60,
     "metadata": {},
     "output_type": "execute_result"
    }
   ],
   "source": [
    "np.argmax(predictions[0])"
   ]
  },
  {
   "cell_type": "code",
   "execution_count": 63,
   "metadata": {},
   "outputs": [
    {
     "data": {
      "image/png": "[encoded data removed]",
      "text/plain": [
       "<Figure size 432x288 with 1 Axes>"
      ]
     },
     "metadata": {
      "needs_background": "light"
     },
     "output_type": "display_data"
    }
   ],
   "source": [
    "plt.plot(range(1,47), predictions[3])\n",
    "plt.show()"
   ]
  },
  {
   "cell_type": "code",
   "execution_count": null,
   "metadata": {},
   "outputs": [],
   "source": []
  }
 ],
 "metadata": {
  "kernelspec": {
   "display_name": "Python 3.6.6 (Tensor)",
   "language": "python",
   "name": "tensor"
  },
  "language_info": {
   "codemirror_mode": {
    "name": "ipython",
    "version": 3
   },
   "file_extension": ".py",
   "mimetype": "text/x-python",
   "name": "python",
   "nbconvert_exporter": "python",
   "pygments_lexer": "ipython3",
   "version": "3.6.6"
  }
 },
 "nbformat": 4,
 "nbformat_minor": 2
}
