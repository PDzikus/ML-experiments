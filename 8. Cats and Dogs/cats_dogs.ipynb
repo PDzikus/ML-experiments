{
 "cells": [
  {
   "cell_type": "markdown",
   "metadata": {},
   "source": [
    "# Description\n",
    "In this experiment I will be writing a Convnet that can recognize/differentiate between two types of pictures, with cats and dogs. As an added challenge, I will be working on a small pictures subset - just 1000 for each class. So generating new examples will be required. As the last step I will use a pre-trained convolutional network to prepare the final network for picture recognition. \n",
    "\n",
    "Whole experiment is based on code from \"Deep Learning with Python\" book."
   ]
  },
  {
   "cell_type": "markdown",
   "metadata": {},
   "source": [
    "## 1. Data\n",
    "Images with cats and dogs are already prepared, based on Kaggle dataset https://www.kaggle.com/c/dogs-vs-cats/ <br>\n",
    "Folder structure, root folder is in ~/ML-cats_dogs_small:\n",
    "-  test\n",
    "    -  cats\n",
    "    -  dogs\n",
    "-  train\n",
    "    -  cats\n",
    "    -  dogs\n",
    "-  validation\n",
    "    -  cats\n",
    "    -  dogs"
   ]
  },
  {
   "cell_type": "code",
   "execution_count": 1,
   "metadata": {},
   "outputs": [],
   "source": [
    "import os\n",
    "\n",
    "base_dir = '/home/dzikus/Pulpit/ML-cats_dogs_small'\n",
    "train_dir = os.path.join(base_dir, 'train')\n",
    "validation_dir = os.path.join(base_dir, 'validation')\n",
    "test_dir = os.path.join(base_dir, 'test')"
   ]
  },
  {
   "cell_type": "markdown",
   "metadata": {},
   "source": [
    "## 2. Model\n",
    "This will be a series of experiments. In first experiment I will create my own custom convolution network. Later I will use a pretrained convonet."
   ]
  },
  {
   "cell_type": "code",
   "execution_count": 2,
   "metadata": {},
   "outputs": [
    {
     "name": "stderr",
     "output_type": "stream",
     "text": [
      "Using TensorFlow backend.\n"
     ]
    }
   ],
   "source": [
    "from keras import layers\n",
    "from keras import models\n",
    "\n",
    "model = models.Sequential()\n",
    "\n",
    "model.add(layers.Conv2D(32, (3, 3), activation = 'relu', input_shape=(150, 150, 3)))\n",
    "model.add(layers.MaxPooling2D((2, 2)))\n",
    "model.add(layers.Conv2D(64, (3, 3), activation = 'relu'))\n",
    "model.add(layers.MaxPooling2D((2, 2)))\n",
    "model.add(layers.Conv2D(128, (3, 3)))\n",
    "model.add(layers.MaxPooling2D((2, 2)))\n",
    "# end of convolutions\n",
    "model.add(layers.Flatten())\n",
    "model.add(layers.Dense(512, activation = 'relu'))\n",
    "model.add(layers.Dense(1, activation = 'sigmoid'))"
   ]
  },
  {
   "cell_type": "code",
   "execution_count": 3,
   "metadata": {},
   "outputs": [
    {
     "name": "stdout",
     "output_type": "stream",
     "text": [
      "_________________________________________________________________\n",
      "Layer (type)                 Output Shape              Param #   \n",
      "=================================================================\n",
      "conv2d_1 (Conv2D)            (None, 148, 148, 32)      896       \n",
      "_________________________________________________________________\n",
      "max_pooling2d_1 (MaxPooling2 (None, 74, 74, 32)        0         \n",
      "_________________________________________________________________\n",
      "conv2d_2 (Conv2D)            (None, 72, 72, 64)        18496     \n",
      "_________________________________________________________________\n",
      "max_pooling2d_2 (MaxPooling2 (None, 36, 36, 64)        0         \n",
      "_________________________________________________________________\n",
      "conv2d_3 (Conv2D)            (None, 34, 34, 128)       73856     \n",
      "_________________________________________________________________\n",
      "max_pooling2d_3 (MaxPooling2 (None, 17, 17, 128)       0         \n",
      "_________________________________________________________________\n",
      "flatten_1 (Flatten)          (None, 36992)             0         \n",
      "_________________________________________________________________\n",
      "dense_1 (Dense)              (None, 512)               18940416  \n",
      "_________________________________________________________________\n",
      "dense_2 (Dense)              (None, 1)                 513       \n",
      "=================================================================\n",
      "Total params: 19,034,177\n",
      "Trainable params: 19,034,177\n",
      "Non-trainable params: 0\n",
      "_________________________________________________________________\n"
     ]
    }
   ],
   "source": [
    "model.summary()"
   ]
  },
  {
   "cell_type": "markdown",
   "metadata": {},
   "source": [
    "Because this is binary classification problem, we will be using single sigmoid unit with binary crossentropy loss function, backpropagation optimizer and accuracy metrics."
   ]
  },
  {
   "cell_type": "code",
   "execution_count": 4,
   "metadata": {},
   "outputs": [],
   "source": [
    "from keras import optimizers\n",
    "\n",
    "model.compile(loss = 'binary_crossentropy', optimizer = optimizers.RMSprop(lr = 1e-4), metrics = ['acc'])"
   ]
  },
  {
   "cell_type": "markdown",
   "metadata": {},
   "source": [
    "## 3. Data preprocessing\n",
    "I need to make sure data will fit the network. It should be 150x150 pixels, with 3 layers (RGB) for colors. Later we will rescale values for each pixel/layer to [0,1] range"
   ]
  },
  {
   "cell_type": "code",
   "execution_count": 5,
   "metadata": {},
   "outputs": [
    {
     "name": "stdout",
     "output_type": "stream",
     "text": [
      "Found 2000 images belonging to 2 classes.\n",
      "Found 1000 images belonging to 2 classes.\n"
     ]
    }
   ],
   "source": [
    "from keras.preprocessing.image import ImageDataGenerator\n",
    "\n",
    "train_datagen = ImageDataGenerator(rescale = 1./255)\n",
    "test_datagen = ImageDataGenerator(rescale = 1./255)\n",
    "\n",
    "train_generator = train_datagen.flow_from_directory( train_dir,\n",
    "                                                   target_size = (150, 150),\n",
    "                                                   batch_size = 20,\n",
    "                                                   class_mode = 'binary')\n",
    "\n",
    "validation_generator = test_datagen.flow_from_directory( validation_dir,\n",
    "                                                       target_size = (150, 150),\n",
    "                                                       batch_size = 20,\n",
    "                                                       class_mode = 'binary')"
   ]
  },
  {
   "cell_type": "code",
   "execution_count": 6,
   "metadata": {},
   "outputs": [
    {
     "name": "stdout",
     "output_type": "stream",
     "text": [
      "Epoch 1/30\n",
      "100/100 [==============================] - 12s 116ms/step - loss: 0.6958 - acc: 0.5605 - val_loss: 0.6953 - val_acc: 0.5310\n",
      "Epoch 2/30\n",
      "100/100 [==============================] - 6s 65ms/step - loss: 0.5929 - acc: 0.6860 - val_loss: 0.6251 - val_acc: 0.6520\n",
      "Epoch 3/30\n",
      "100/100 [==============================] - 6s 65ms/step - loss: 0.5154 - acc: 0.7450 - val_loss: 0.5830 - val_acc: 0.6800\n",
      "Epoch 4/30\n",
      "100/100 [==============================] - 7s 66ms/step - loss: 0.4429 - acc: 0.7985 - val_loss: 0.6022 - val_acc: 0.6760\n",
      "Epoch 5/30\n",
      "100/100 [==============================] - 6s 64ms/step - loss: 0.3797 - acc: 0.8400 - val_loss: 0.5823 - val_acc: 0.6910\n",
      "Epoch 6/30\n",
      "100/100 [==============================] - 6s 65ms/step - loss: 0.3156 - acc: 0.8735 - val_loss: 0.6349 - val_acc: 0.7020\n",
      "Epoch 7/30\n",
      "100/100 [==============================] - 7s 66ms/step - loss: 0.2558 - acc: 0.9095 - val_loss: 0.6373 - val_acc: 0.6860\n",
      "Epoch 8/30\n",
      "100/100 [==============================] - 6s 64ms/step - loss: 0.2023 - acc: 0.9325 - val_loss: 0.6667 - val_acc: 0.6960\n",
      "Epoch 9/30\n",
      "100/100 [==============================] - 6s 65ms/step - loss: 0.1529 - acc: 0.9580 - val_loss: 0.7146 - val_acc: 0.6950\n",
      "Epoch 10/30\n",
      "100/100 [==============================] - 7s 68ms/step - loss: 0.1070 - acc: 0.9780 - val_loss: 0.7906 - val_acc: 0.6940\n",
      "Epoch 11/30\n",
      "100/100 [==============================] - 7s 67ms/step - loss: 0.0774 - acc: 0.9830 - val_loss: 0.8786 - val_acc: 0.6770\n",
      "Epoch 12/30\n",
      "100/100 [==============================] - 7s 66ms/step - loss: 0.0529 - acc: 0.9910 - val_loss: 0.9015 - val_acc: 0.6940\n",
      "Epoch 13/30\n",
      "100/100 [==============================] - 6s 65ms/step - loss: 0.0364 - acc: 0.9925 - val_loss: 1.0760 - val_acc: 0.6800\n",
      "Epoch 14/30\n",
      "100/100 [==============================] - 7s 66ms/step - loss: 0.0263 - acc: 0.9970 - val_loss: 1.1170 - val_acc: 0.6780\n",
      "Epoch 15/30\n",
      "100/100 [==============================] - 7s 66ms/step - loss: 0.0183 - acc: 0.9985 - val_loss: 1.1765 - val_acc: 0.6810\n",
      "Epoch 16/30\n",
      "100/100 [==============================] - 6s 65ms/step - loss: 0.0120 - acc: 0.9980 - val_loss: 1.2519 - val_acc: 0.6800\n",
      "Epoch 17/30\n",
      "100/100 [==============================] - 7s 65ms/step - loss: 0.0080 - acc: 0.9985 - val_loss: 1.3650 - val_acc: 0.6800\n",
      "Epoch 18/30\n",
      "100/100 [==============================] - 7s 65ms/step - loss: 0.0104 - acc: 0.9970 - val_loss: 1.4086 - val_acc: 0.6810\n",
      "Epoch 19/30\n",
      "100/100 [==============================] - 6s 65ms/step - loss: 0.0043 - acc: 0.9995 - val_loss: 1.4942 - val_acc: 0.6850\n",
      "Epoch 20/30\n",
      "100/100 [==============================] - 6s 64ms/step - loss: 0.0040 - acc: 0.9995 - val_loss: 1.5949 - val_acc: 0.6840\n",
      "Epoch 21/30\n",
      "100/100 [==============================] - 6s 64ms/step - loss: 0.0024 - acc: 1.0000 - val_loss: 1.7957 - val_acc: 0.6740\n",
      "Epoch 22/30\n",
      "100/100 [==============================] - 6s 64ms/step - loss: 0.0018 - acc: 1.0000 - val_loss: 1.8152 - val_acc: 0.6760\n",
      "Epoch 23/30\n",
      "100/100 [==============================] - 6s 64ms/step - loss: 0.0028 - acc: 0.9990 - val_loss: 1.8032 - val_acc: 0.6800\n",
      "Epoch 24/30\n",
      "100/100 [==============================] - 6s 65ms/step - loss: 0.0020 - acc: 0.9995 - val_loss: 1.8801 - val_acc: 0.6900\n",
      "Epoch 25/30\n",
      "100/100 [==============================] - 7s 65ms/step - loss: 5.9161e-04 - acc: 1.0000 - val_loss: 1.9073 - val_acc: 0.6880\n",
      "Epoch 26/30\n",
      "100/100 [==============================] - 7s 65ms/step - loss: 0.0048 - acc: 0.9980 - val_loss: 1.8674 - val_acc: 0.6750\n",
      "Epoch 27/30\n",
      "100/100 [==============================] - 6s 65ms/step - loss: 3.5653e-04 - acc: 1.0000 - val_loss: 1.9759 - val_acc: 0.6780\n",
      "Epoch 28/30\n",
      "100/100 [==============================] - 7s 67ms/step - loss: 2.4368e-04 - acc: 1.0000 - val_loss: 2.0440 - val_acc: 0.6790\n",
      "Epoch 29/30\n",
      "100/100 [==============================] - 7s 66ms/step - loss: 1.5806e-04 - acc: 1.0000 - val_loss: 2.1481 - val_acc: 0.6900\n",
      "Epoch 30/30\n",
      "100/100 [==============================] - 6s 65ms/step - loss: 3.5855e-04 - acc: 1.0000 - val_loss: 2.2765 - val_acc: 0.6920\n"
     ]
    }
   ],
   "source": [
    "history = model.fit_generator( train_generator,\n",
    "                             steps_per_epoch = 100,\n",
    "                             epochs = 30,\n",
    "                             validation_data = validation_generator,\n",
    "                             validation_steps = 50)\n",
    "model.save('cats_and_dogs_small_1.h5')"
   ]
  },
  {
   "cell_type": "markdown",
   "metadata": {},
   "source": [
    "Now let's see how loss/accuracy changed during training"
   ]
  },
  {
   "cell_type": "code",
   "execution_count": 9,
   "metadata": {},
   "outputs": [
    {
     "data": {
      "image/png": "[encoded data removed]",
      "text/plain": [
       "<Figure size 432x288 with 1 Axes>"
      ]
     },
     "metadata": {
      "needs_background": "light"
     },
     "output_type": "display_data"
    },
    {
     "data": {
      "image/png": "[encoded data removed]",
      "text/plain": [
       "<Figure size 432x288 with 1 Axes>"
      ]
     },
     "metadata": {
      "needs_background": "light"
     },
     "output_type": "display_data"
    }
   ],
   "source": [
    "import matplotlib.pyplot as plt\n",
    "%matplotlib inline\n",
    "\n",
    "acc = history.history['acc']\n",
    "val_acc = history.history['val_acc']\n",
    "loss = history.history['loss']\n",
    "val_loss = history.history['val_loss']\n",
    "\n",
    "epochs = range(1, len(acc)+1)\n",
    "\n",
    "plt.plot(epochs, acc, 'bo', label = 'Training acc')\n",
    "plt.plot(epochs, val_acc, 'b', label = 'Validation acc')\n",
    "plt.title('Training and validation accuracy')\n",
    "plt.legend()\n",
    "plt.figure()\n",
    "\n",
    "plt.plot(epochs, loss, 'bo', label = 'Training loss')\n",
    "plt.plot(epochs, val_loss, 'b', label = 'Validation loss')\n",
    "plt.legend()\n",
    "\n",
    "plt.show()"
   ]
  },
  {
   "cell_type": "code",
   "execution_count": null,
   "metadata": {},
   "outputs": [],
   "source": []
  }
 ],
 "metadata": {
  "kernelspec": {
   "display_name": "Python 3",
   "language": "python",
   "name": "python3"
  },
  "language_info": {
   "codemirror_mode": {
    "name": "ipython",
    "version": 3
   },
   "file_extension": ".py",
   "mimetype": "text/x-python",
   "name": "python",
   "nbconvert_exporter": "python",
   "pygments_lexer": "ipython3",
   "version": "3.6.6"
  }
 },
 "nbformat": 4,
 "nbformat_minor": 2
}
