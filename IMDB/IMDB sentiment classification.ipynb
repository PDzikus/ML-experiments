{
 "cells": [
  {
   "cell_type": "code",
   "execution_count": 2,
   "metadata": {},
   "outputs": [
    {
     "name": "stderr",
     "output_type": "stream",
     "text": [
      "Using TensorFlow backend.\n"
     ]
    }
   ],
   "source": [
    "from keras.datasets import imdb\n",
    "from keras import models\n",
    "from keras import layers\n",
    "from keras import optimizers\n",
    "from keras import losses\n",
    "from keras import metrics\n",
    "import numpy as np\n",
    "import matplotlib.pyplot as plt"
   ]
  },
  {
   "cell_type": "markdown",
   "metadata": {},
   "source": [
    "### 1. Dataset\n",
    "Loading dataset from keras, dataset description."
   ]
  },
  {
   "cell_type": "code",
   "execution_count": 3,
   "metadata": {},
   "outputs": [],
   "source": [
    "(train_data, train_labels), (test_data, test_labels) = imdb.load_data(num_words = 10000)"
   ]
  },
  {
   "cell_type": "code",
   "execution_count": 4,
   "metadata": {},
   "outputs": [
    {
     "name": "stdout",
     "output_type": "stream",
     "text": [
      "Help on module keras.datasets.imdb in keras.datasets:\n",
      "\n",
      "NAME\n",
      "    keras.datasets.imdb - IMDB sentiment classification dataset.\n",
      "\n",
      "FUNCTIONS\n",
      "    get_word_index(path='imdb_word_index.json')\n",
      "        Retrieves the dictionary mapping words to word indices.\n",
      "        \n",
      "        # Arguments\n",
      "            path: where to cache the data (relative to `~/.keras/dataset`).\n",
      "        \n",
      "        # Returns\n",
      "            The word index dictionary.\n",
      "    \n",
      "    load_data(path='imdb.npz', num_words=None, skip_top=0, maxlen=None, seed=113, start_char=1, oov_char=2, index_from=3, **kwargs)\n",
      "        Loads the IMDB dataset.\n",
      "        \n",
      "        # Arguments\n",
      "            path: where to cache the data (relative to `~/.keras/dataset`).\n",
      "            num_words: max number of words to include. Words are ranked\n",
      "                by how often they occur (in the training set) and only\n",
      "                the most frequent words are kept\n",
      "            skip_top: skip the top N most frequently occurring words\n",
      "                (which may not be informative).\n",
      "            maxlen: sequences longer than this will be filtered out.\n",
      "            seed: random seed for sample shuffling.\n",
      "            start_char: The start of a sequence will be marked with this character.\n",
      "                Set to 1 because 0 is usually the padding character.\n",
      "            oov_char: words that were cut out because of the `num_words`\n",
      "                or `skip_top` limit will be replaced with this character.\n",
      "            index_from: index actual words with this index and higher.\n",
      "        \n",
      "        # Returns\n",
      "            Tuple of Numpy arrays: `(x_train, y_train), (x_test, y_test)`.\n",
      "        \n",
      "        # Raises\n",
      "            ValueError: in case `maxlen` is so low\n",
      "                that no input sequence could be kept.\n",
      "        \n",
      "        Note that the 'out of vocabulary' character is only used for\n",
      "        words that were present in the training set but are not included\n",
      "        because they're not making the `num_words` cut here.\n",
      "        Words that were not seen in the training set but are in the test set\n",
      "        have simply been skipped.\n",
      "\n",
      "DATA\n",
      "    absolute_import = _Feature((2, 5, 0, 'alpha', 1), (3, 0, 0, 'alpha', 0...\n",
      "    division = _Feature((2, 2, 0, 'alpha', 2), (3, 0, 0, 'alpha', 0), 8192...\n",
      "    print_function = _Feature((2, 6, 0, 'alpha', 2), (3, 0, 0, 'alpha', 0)...\n",
      "\n",
      "FILE\n",
      "    /home/dzikus/anaconda3/envs/tensor/lib/python3.6/site-packages/keras/datasets/imdb.py\n",
      "\n",
      "\n",
      "Train data shape: (25000,)\n",
      "Test data shape: (25000,)\n"
     ]
    }
   ],
   "source": [
    "help(imdb)\n",
    "print(f\"Train data shape: {train_data.shape}\")\n",
    "print(f\"Test data shape: {test_data.shape}\")"
   ]
  },
  {
   "cell_type": "markdown",
   "metadata": {},
   "source": [
    "### 2. Preparing the data with one-hot-encoding\n",
    "labels also vectorized and converted to floats"
   ]
  },
  {
   "cell_type": "code",
   "execution_count": 7,
   "metadata": {},
   "outputs": [],
   "source": [
    "def vectorize_sequences(sequences, dimension = 10000):\n",
    "    results = np.zeros((len(sequences), dimension))\n",
    "    for i, sequence in enumerate(sequences):\n",
    "        results[i, sequence] = 1\n",
    "    return results\n",
    "\n",
    "x_train = vectorize_sequences(train_data)\n",
    "x_test = vectorize_sequences(test_data)\n",
    "\n",
    "y_train = np.asarray(train_labels).astype('float32')\n",
    "y_test = np.asarray(test_labels).astype('float32')"
   ]
  },
  {
   "cell_type": "markdown",
   "metadata": {},
   "source": [
    "### 3. Building and training a model"
   ]
  },
  {
   "cell_type": "code",
   "execution_count": 69,
   "metadata": {},
   "outputs": [],
   "source": [
    "model = models.Sequential()\n",
    "model.add(layers.Dense(128, activation = 'relu', input_shape = (10000, )))\n",
    "model.add(layers.Dense(128, activation = 'relu'))\n",
    "model.add(layers.Dense(128, activation = 'relu'))\n",
    "model.add(layers.Dense(1, activation = 'sigmoid'))"
   ]
  },
  {
   "cell_type": "code",
   "execution_count": 70,
   "metadata": {},
   "outputs": [],
   "source": [
    "model.compile(optimizer = 'rmsprop', loss = 'binary_crossentropy', metrics = ['accuracy'])"
   ]
  },
  {
   "cell_type": "code",
   "execution_count": 71,
   "metadata": {},
   "outputs": [],
   "source": [
    "x_val = x_train[:10000]\n",
    "y_val = y_train[:10000]\n",
    "partial_x_train = x_train[10000:]\n",
    "partial_y_train = y_train[10000:]"
   ]
  },
  {
   "cell_type": "code",
   "execution_count": 72,
   "metadata": {},
   "outputs": [
    {
     "name": "stdout",
     "output_type": "stream",
     "text": [
      "Train on 15000 samples, validate on 10000 samples\n",
      "Epoch 1/20\n",
      "15000/15000 [==============================] - 2s 118us/step - loss: 0.5104 - acc: 0.7513 - val_loss: 0.3043 - val_acc: 0.8787\n",
      "Epoch 2/20\n",
      "15000/15000 [==============================] - 1s 92us/step - loss: 0.2622 - acc: 0.8955 - val_loss: 0.2738 - val_acc: 0.8862\n",
      "Epoch 3/20\n",
      "15000/15000 [==============================] - 1s 93us/step - loss: 0.1737 - acc: 0.9340 - val_loss: 0.3021 - val_acc: 0.8828\n",
      "Epoch 4/20\n",
      "15000/15000 [==============================] - 1s 92us/step - loss: 0.1317 - acc: 0.9513 - val_loss: 0.2994 - val_acc: 0.8825\n",
      "Epoch 5/20\n",
      "15000/15000 [==============================] - 1s 95us/step - loss: 0.0756 - acc: 0.9757 - val_loss: 0.3847 - val_acc: 0.8827\n",
      "Epoch 6/20\n",
      "15000/15000 [==============================] - 1s 93us/step - loss: 0.0833 - acc: 0.9788 - val_loss: 0.3506 - val_acc: 0.8801\n",
      "Epoch 7/20\n",
      "15000/15000 [==============================] - 1s 96us/step - loss: 0.0096 - acc: 0.9990 - val_loss: 0.5415 - val_acc: 0.8799\n",
      "Epoch 8/20\n",
      "15000/15000 [==============================] - 1s 94us/step - loss: 0.0020 - acc: 0.9997 - val_loss: 0.6847 - val_acc: 0.8800\n",
      "Epoch 9/20\n",
      "15000/15000 [==============================] - 1s 92us/step - loss: 2.4663e-04 - acc: 1.0000 - val_loss: 0.8270 - val_acc: 0.8806\n",
      "Epoch 10/20\n",
      "15000/15000 [==============================] - 1s 93us/step - loss: 2.9540e-05 - acc: 1.0000 - val_loss: 0.9421 - val_acc: 0.8796\n",
      "Epoch 11/20\n",
      "15000/15000 [==============================] - 1s 93us/step - loss: 5.2596e-06 - acc: 1.0000 - val_loss: 1.0203 - val_acc: 0.8799\n",
      "Epoch 12/20\n",
      "15000/15000 [==============================] - 1s 93us/step - loss: 1.1101e-06 - acc: 1.0000 - val_loss: 1.0899 - val_acc: 0.8793\n",
      "Epoch 13/20\n",
      "15000/15000 [==============================] - 1s 93us/step - loss: 3.0276e-07 - acc: 1.0000 - val_loss: 1.1288 - val_acc: 0.8793\n",
      "Epoch 14/20\n",
      "15000/15000 [==============================] - 1s 94us/step - loss: 1.7008e-07 - acc: 1.0000 - val_loss: 1.1555 - val_acc: 0.8792\n",
      "Epoch 15/20\n",
      "15000/15000 [==============================] - 1s 95us/step - loss: 1.2969e-07 - acc: 1.0000 - val_loss: 1.1758 - val_acc: 0.8791\n",
      "Epoch 16/20\n",
      "15000/15000 [==============================] - 1s 94us/step - loss: 1.1802e-07 - acc: 1.0000 - val_loss: 1.1873 - val_acc: 0.8790\n",
      "Epoch 17/20\n",
      "15000/15000 [==============================] - 1s 94us/step - loss: 1.1403e-07 - acc: 1.0000 - val_loss: 1.1954 - val_acc: 0.8788\n",
      "Epoch 18/20\n",
      "15000/15000 [==============================] - 1s 95us/step - loss: 1.1250e-07 - acc: 1.0000 - val_loss: 1.2010 - val_acc: 0.8793\n",
      "Epoch 19/20\n",
      "15000/15000 [==============================] - 1s 94us/step - loss: 1.1156e-07 - acc: 1.0000 - val_loss: 1.2052 - val_acc: 0.8788\n",
      "Epoch 20/20\n",
      "15000/15000 [==============================] - 1s 93us/step - loss: 1.1105e-07 - acc: 1.0000 - val_loss: 1.2084 - val_acc: 0.8789\n"
     ]
    }
   ],
   "source": [
    "history = model.fit(partial_x_train, partial_y_train, \\\n",
    "                    epochs = 20, \\\n",
    "                    batch_size = 512, \\\n",
    "                    validation_data = (x_val, y_val))"
   ]
  },
  {
   "cell_type": "markdown",
   "metadata": {},
   "source": [
    "### 4. History of training"
   ]
  },
  {
   "cell_type": "code",
   "execution_count": 73,
   "metadata": {},
   "outputs": [
    {
     "name": "stdout",
     "output_type": "stream",
     "text": [
      "dict_keys(['val_loss', 'val_acc', 'loss', 'acc'])\n"
     ]
    }
   ],
   "source": [
    "# help(history)\n",
    "history_dict = history.history\n",
    "print(history_dict.keys())"
   ]
  },
  {
   "cell_type": "code",
   "execution_count": 74,
   "metadata": {},
   "outputs": [
    {
     "data": {
      "image/png": "[encoded data removed]",
      "text/plain": [
       "<Figure size 432x288 with 1 Axes>"
      ]
     },
     "metadata": {
      "needs_background": "light"
     },
     "output_type": "display_data"
    }
   ],
   "source": [
    "loss_values = history_dict['loss']\n",
    "val_loss_values = history_dict['val_loss']\n",
    "\n",
    "epochs = range(1, len(loss_values) + 1)\n",
    "\n",
    "plt.plot(epochs, loss_values, 'bo', label  ='Training loss')\n",
    "plt.plot(epochs, val_loss_values, 'b', label = 'Validation_loss')\n",
    "plt.title('Training and validation loss')\n",
    "plt.xlabel('Epochs')\n",
    "plt.ylabel('Loss')\n",
    "plt.legend()\n",
    "plt.show()"
   ]
  },
  {
   "cell_type": "code",
   "execution_count": 75,
   "metadata": {},
   "outputs": [
    {
     "data": {
      "image/png": "[encoded data removed]",
      "text/plain": [
       "<Figure size 432x288 with 1 Axes>"
      ]
     },
     "metadata": {
      "needs_background": "light"
     },
     "output_type": "display_data"
    }
   ],
   "source": [
    "plt.clf()\n",
    "acc_values = history_dict['acc']\n",
    "val_acc_values = history_dict['val_acc']\n",
    "plt.plot(epochs, acc_values, 'bo', label = 'Training acc')\n",
    "plt.plot(epochs, val_acc_values, 'b', label = 'Validation acc')\n",
    "plt.title('Training and validation acuracy')\n",
    "plt.xlabel('Epochs')\n",
    "plt.ylabel('Loss')\n",
    "plt.legend\n",
    "plt.show()"
   ]
  },
  {
   "cell_type": "markdown",
   "metadata": {},
   "source": [
    "### 5. Retraining new model"
   ]
  },
  {
   "cell_type": "code",
   "execution_count": 78,
   "metadata": {
    "scrolled": true
   },
   "outputs": [
    {
     "name": "stdout",
     "output_type": "stream",
     "text": [
      "Epoch 1/4\n",
      "25000/25000 [==============================] - 2s 68us/step - loss: 0.4876 - acc: 0.8127\n",
      "Epoch 2/4\n",
      "25000/25000 [==============================] - 1s 55us/step - loss: 0.2805 - acc: 0.9066\n",
      "Epoch 3/4\n",
      "25000/25000 [==============================] - 1s 56us/step - loss: 0.2085 - acc: 0.9288\n",
      "Epoch 4/4\n",
      "25000/25000 [==============================] - 1s 55us/step - loss: 0.1725 - acc: 0.9394\n",
      "25000/25000 [==============================] - 2s 87us/step\n",
      "[0.29307313817977904, 0.88344]\n"
     ]
    }
   ],
   "source": [
    "model = models.Sequential()\n",
    "model.add(layers.Dense(16, activation='relu', input_shape = (10000, )))\n",
    "model.add(layers.Dense(16, activation='relu'))\n",
    "model.add(layers.Dense(1, activation = 'sigmoid'))\n",
    "\n",
    "model.compile(optimizer = 'rmsprop',\n",
    "             loss = 'binary_crossentropy',\n",
    "             metrics = ['accuracy'])\n",
    "model.fit(x_train, y_train, epochs=4, batch_size = 512)\n",
    "results = model.evaluate(x_test, y_test)\n",
    "print(results)"
   ]
  },
  {
   "cell_type": "code",
   "execution_count": 79,
   "metadata": {},
   "outputs": [
    {
     "data": {
      "text/plain": [
       "[0.29307313817977904, 0.88344]"
      ]
     },
     "execution_count": 79,
     "metadata": {},
     "output_type": "execute_result"
    }
   ],
   "source": [
    "results"
   ]
  },
  {
   "cell_type": "code",
   "execution_count": 91,
   "metadata": {},
   "outputs": [
    {
     "name": "stdout",
     "output_type": "stream",
     "text": [
      "Epoch 1/4\n",
      "25000/25000 [==============================] - 2s 82us/step - loss: 0.4303 - acc: 0.8200\n",
      "Epoch 2/4\n",
      "25000/25000 [==============================] - 1s 56us/step - loss: 0.2001 - acc: 0.9246\n",
      "Epoch 3/4\n",
      "25000/25000 [==============================] - 1s 56us/step - loss: 0.1407 - acc: 0.9494\n",
      "Epoch 4/4\n",
      "25000/25000 [==============================] - 1s 56us/step - loss: 0.1063 - acc: 0.9635\n",
      "25000/25000 [==============================] - 2s 98us/step\n",
      "[0.416448136882782, 0.86576]\n"
     ]
    }
   ],
   "source": [
    "model = models.Sequential()\n",
    "model.add(layers.Dense(32, activation='relu', input_shape = (10000, )))\n",
    "model.add(layers.Dense(32, activation='relu'))\n",
    "model.add(layers.Dense(32, activation='relu'))\n",
    "model.add(layers.Dense(1, activation = 'sigmoid'))\n",
    "\n",
    "model.compile(optimizer = 'adam',\n",
    "             loss = 'binary_crossentropy',\n",
    "             metrics = ['accuracy'])\n",
    "model.fit(x_train, y_train, epochs=4, batch_size = 512)\n",
    "results = model.evaluate(x_test, y_test)\n",
    "print(results)"
   ]
  },
  {
   "cell_type": "code",
   "execution_count": null,
   "metadata": {},
   "outputs": [],
   "source": []
  }
 ],
 "metadata": {
  "kernelspec": {
   "display_name": "Python 3.6.6 (Tensor)",
   "language": "python",
   "name": "tensor"
  },
  "language_info": {
   "codemirror_mode": {
    "name": "ipython",
    "version": 3
   },
   "file_extension": ".py",
   "mimetype": "text/x-python",
   "name": "python",
   "nbconvert_exporter": "python",
   "pygments_lexer": "ipython3",
   "version": "3.6.6"
  }
 },
 "nbformat": 4,
 "nbformat_minor": 2
}
